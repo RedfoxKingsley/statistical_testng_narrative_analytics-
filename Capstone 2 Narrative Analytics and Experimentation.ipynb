{
 "cells": [
  {
   "cell_type": "markdown",
   "metadata": {},
   "source": [
    "# Capstone 2: Narrative Analytics and Experimentation\n",
    "#### Thinkful: Data Science\n",
    "#### Corey Coole\n",
    "#### May 27, 2019"
   ]
  },
  {
   "cell_type": "markdown",
   "metadata": {},
   "source": [
    "## Introduction"
   ]
  },
  {
   "cell_type": "markdown",
   "metadata": {},
   "source": [
    "### The Problem:\n",
    "Firearms continue to be a leading method of murder across the United States. Data shows us the over 73% of murders commited in the year 2016 were linked to firearms.   \n",
    "\n",
    "### The Potential Solution:\n",
    "\n",
    "- Hypothesis: A 'Mental Health' provision reduces the amount of firearms murders \n",
    "\n",
    "Mental Health Provision: \n",
    "Background checks for private sales are required for at least some weapons and there is an explicit requirement for search of mental health records.\n",
    "\n",
    "A decrease in firearm murder count is expected as the states apply the 'Mental Health' provision.\n",
    "\n",
    "### Design of Experiment:\n",
    "Compare U.S. statistics involving firearm murders, population data, and firearm provisions enacted on the state level. \n",
    "Since firearms provisions are nonstandarized bewtween all states, select two of the most similar states based on number and type of provivsions applied respectively, such that neither state applies the Mental Health provision. \n",
    "Introduce the Mental Health provision to one of state's legislature to be in affect beginning the next year. \n",
    "Observe and record the amount of murders linked to firearms in the following year.\n",
    "Adjust each state's annual the murders quantities based on population growth.\n",
    "Compute and test each state's ratio of annual firearm murder to total murder count with a two proportion Z-test in order to discern in the case of a difference of annual firearm murder, \n",
    "if the difference is statistically significant. \n",
    "Select a confidence level of alpha = .05 to be the indicator for successful reduction in murder total. \n",
    "\n",
    "### Questions to Answer:\n",
    "- Does legislation help decrease the number of firearms fatalities?\n",
    "\n",
    "- Is the Mental Health Provision effective in reducing firearms fatalities? \n",
    "\n",
    "### Control Group:\n",
    "Arizona 2016 Firearm Provision and Murder Data\n",
    "\n",
    "### Test Group:\n",
    "Virginia 2016 Firearm Provision and Murder Data\n",
    "\n",
    "### Metrics of Interest:\n",
    "- Number of state provisions applied\n",
    "- Annual state firearms murders \n",
    "- Annual state total murders\n",
    "- Annual state population change\n",
    "- Two proportion Z-test p-value"
   ]
  },
  {
   "cell_type": "markdown",
   "metadata": {},
   "source": [
    "## Exploratory Data Anaysis"
   ]
  },
  {
   "cell_type": "markdown",
   "metadata": {},
   "source": [
    "-  U.S. provision data, murder count data, and population data grouped by year and state is collected to relate a comprehensive image of the legislative and incidental nature of firearm murder in the U.S."
   ]
  },
  {
   "cell_type": "code",
   "execution_count": 59,
   "metadata": {},
   "outputs": [],
   "source": [
    "import pandas as pd\n",
    "import numpy as np\n",
    "import matplotlib.pyplot as plt\n",
    "%matplotlib inline\n",
    "    \n",
    "#https://www.kaggle.com/jboysen/state-firearms\n",
    "df = pd.read_csv('raw_data.csv', sep=',', encoding='Latin-1') # Read the four raw .csv file, store into data frames\n",
    "\n",
    "#https://www.kaggle.com/bryanmaloney/murders-by-method-usa-19992016/downloads/murders-by-method-usa-19992016.zip/1\n",
    "df_m = pd.read_csv('murders by type.csv', sep=',', encoding='Latin-1')\n",
    "\n",
    "#https://www.census.gov/data/tables/time-series/demo/popest/2010s-national-total.html#par_textimage\n",
    "df_US = pd.read_csv('nst-est2018-alldata.csv', sep=',') "
   ]
  },
  {
   "cell_type": "markdown",
   "metadata": {},
   "source": [
    "- The U.S. provision data contains all of the firearms provisions applied on the state level from 1991 to 2017. The list contains 133 total provisions. Not all states enact the same list of laws so we must take care that the experiment investigates two states with similar applied provisions. The list contains 133 total provisions.\n",
    "\n",
    "- The U.S. murder data aggregates the total amount of murders commited annually grouped by state, catagorized by type of murder; firearm, cutting, unarmed, and other.\n",
    "\n",
    "- The U.S. population data is derived from the United States Census Bureau, grouped by state and year."
   ]
  },
  {
   "cell_type": "markdown",
   "metadata": {},
   "source": [
    "## National Provision Data\n",
    "- All provisions in the dataset are applied at least once, such that there are no unecessary provision catagories.\n",
    "Thusly, the provision data quartiles tell us that the average amount of applied laws is 23.45, the number of maximum applied laws by a state annually is 106 and the minimum applied laws by state annually is 3.\n",
    "We would like to investiate further the profiles of the these particular states.\n",
    "\n",
    "- The full list of provisional descriptions is provided below.\n",
    "The provision descriptions of the states chosen for investigation will be included later on in the report.\n",
    "\n",
    "https://docs.google.com/spreadsheets/d/1arzySi6a-z30WXZBn9YGrjYoPC9Tgx2D23Zq4f1TQo8/edit?usp=sharing"
   ]
  },
  {
   "cell_type": "code",
   "execution_count": 3,
   "metadata": {},
   "outputs": [
    {
     "data": {
      "text/plain": [
       "count    1350.000000\n",
       "mean       23.452593\n",
       "std        21.677371\n",
       "min         3.000000\n",
       "25%        10.000000\n",
       "50%        15.000000\n",
       "75%        25.000000\n",
       "max       106.000000\n",
       "Name: lawtotal, dtype: float64"
      ]
     },
     "execution_count": 3,
     "metadata": {},
     "output_type": "execute_result"
    }
   ],
   "source": [
    "df['lawtotal'].describe() # describe the quartiles, mean and standard deviation of the provision data set"
   ]
  },
  {
   "cell_type": "markdown",
   "metadata": {},
   "source": [
    "## State with most provisions applied: California\n",
    "- We see that the state with the most applied firearms laws in California in 2017."
   ]
  },
  {
   "cell_type": "code",
   "execution_count": 4,
   "metadata": {
    "scrolled": true
   },
   "outputs": [
    {
     "data": {
      "text/html": [
       "<div>\n",
       "<style scoped>\n",
       "    .dataframe tbody tr th:only-of-type {\n",
       "        vertical-align: middle;\n",
       "    }\n",
       "\n",
       "    .dataframe tbody tr th {\n",
       "        vertical-align: top;\n",
       "    }\n",
       "\n",
       "    .dataframe thead th {\n",
       "        text-align: right;\n",
       "    }\n",
       "</style>\n",
       "<table border=\"1\" class=\"dataframe\">\n",
       "  <thead>\n",
       "    <tr style=\"text-align: right;\">\n",
       "      <th></th>\n",
       "      <th>state</th>\n",
       "      <th>year</th>\n",
       "    </tr>\n",
       "  </thead>\n",
       "  <tbody>\n",
       "    <tr>\n",
       "      <th>1304</th>\n",
       "      <td>California</td>\n",
       "      <td>2017</td>\n",
       "    </tr>\n",
       "  </tbody>\n",
       "</table>\n",
       "</div>"
      ],
      "text/plain": [
       "           state  year\n",
       "1304  California  2017"
      ]
     },
     "execution_count": 4,
     "metadata": {},
     "output_type": "execute_result"
    }
   ],
   "source": [
    "df_max_law_state = df[df['lawtotal'] == 106] # find the state with the most applied provisions\n",
    "df_max_law_state[['state','year']]"
   ]
  },
  {
   "cell_type": "code",
   "execution_count": 97,
   "metadata": {
    "scrolled": false
   },
   "outputs": [
    {
     "name": "stdout",
     "output_type": "stream",
     "text": [
      "      Year       State  Total      Type  By Weapon\n",
      "68    2004  California   2391  Firearms       1724\n",
      "264   2005  California   2503  Firearms       1845\n",
      "460   2006  California   2485  Firearms       1822\n",
      "656   2007  California   2249  Firearms       1605\n",
      "852   2008  California   2142  Firearms       1487\n",
      "1048  2009  California   1972  Firearms       1360\n",
      "1248  2010  California   1811  Firearms       1257\n",
      "1448  2011  California   1790  Firearms       1220\n",
      "1648  2012  California   1879  Firearms       1304\n",
      "1848  2013  California   1745  Firearms       1224\n",
      "2052  2014  California   1697  Firearms       1169\n",
      "2256  2015  California   1861  Firearms       1275\n",
      "2460  2016  California   1930  Firearms       1368\n"
     ]
    },
    {
     "data": {
      "image/png": "[encoded data removed]",
      "text/plain": [
       "<Figure size 432x288 with 1 Axes>"
      ]
     },
     "metadata": {
      "needs_background": "light"
     },
     "output_type": "display_data"
    }
   ],
   "source": [
    "df_m_calif = df_m[df_m['State'] == 'California'] # take an annual firearm murder count profile of the Calif. data\n",
    "df_m_calif_firearm = df_m_calif[df_m_calif['Type'] == 'Firearms']\n",
    "print(df_m_calif_firearm)\n",
    "\n",
    "df_m_calif_firearm.plot.bar(x='Year',y='By Weapon')\n",
    "plt.title('California Annual Firearm Murders') \n",
    "plt.ylabel('Total Count')\n",
    "plt.tight_layout()\n",
    "plt.show()"
   ]
  },
  {
   "cell_type": "markdown",
   "metadata": {},
   "source": [
    "- We also see that in the year 2016 (the last year of recorded murder data), the total murders linked to firearms was 1368. Also important to note the decreasing trend of murder totals starting in the year 2005 and the increasing trend beginning in 2014."
   ]
  },
  {
   "cell_type": "code",
   "execution_count": 98,
   "metadata": {},
   "outputs": [
    {
     "data": {
      "text/plain": [
       "1254    1\n",
       "Name: mentalhealth, dtype: int64"
      ]
     },
     "execution_count": 98,
     "metadata": {},
     "output_type": "execute_result"
    }
   ],
   "source": [
    "df_CA = df[df['state'] == 'California'] # check the Calif. data set for the 'mental health' provision\n",
    "df_CA = df_CA[df_CA['year'] == 2016]\n",
    "df_CA['mentalhealth']"
   ]
  },
  {
   "cell_type": "markdown",
   "metadata": {},
   "source": [
    "- Searching the California provision data, we see that the list 2016 did include the Mental Health provision."
   ]
  },
  {
   "cell_type": "markdown",
   "metadata": {},
   "source": [
    "## State with least provisions applied: Vermont\n",
    "- We see that the minimum amount of applied firearms laws occured in the state of Vermont and the state of Monatana.\n",
    "Most recent data shows consistently, Vermont has the least amount of provisions applied for any state."
   ]
  },
  {
   "cell_type": "code",
   "execution_count": 104,
   "metadata": {},
   "outputs": [
    {
     "name": "stdout",
     "output_type": "stream",
     "text": [
      "['Montana' 'Vermont']\n"
     ]
    },
    {
     "data": {
      "text/html": [
       "<div>\n",
       "<style scoped>\n",
       "    .dataframe tbody tr th:only-of-type {\n",
       "        vertical-align: middle;\n",
       "    }\n",
       "\n",
       "    .dataframe tbody tr th {\n",
       "        vertical-align: top;\n",
       "    }\n",
       "\n",
       "    .dataframe thead th {\n",
       "        text-align: right;\n",
       "    }\n",
       "</style>\n",
       "<table border=\"1\" class=\"dataframe\">\n",
       "  <thead>\n",
       "    <tr style=\"text-align: right;\">\n",
       "      <th></th>\n",
       "      <th>state</th>\n",
       "      <th>year</th>\n",
       "    </tr>\n",
       "  </thead>\n",
       "  <tbody>\n",
       "    <tr>\n",
       "      <th>994</th>\n",
       "      <td>Vermont</td>\n",
       "      <td>2010</td>\n",
       "    </tr>\n",
       "    <tr>\n",
       "      <th>1044</th>\n",
       "      <td>Vermont</td>\n",
       "      <td>2011</td>\n",
       "    </tr>\n",
       "    <tr>\n",
       "      <th>1094</th>\n",
       "      <td>Vermont</td>\n",
       "      <td>2012</td>\n",
       "    </tr>\n",
       "    <tr>\n",
       "      <th>1144</th>\n",
       "      <td>Vermont</td>\n",
       "      <td>2013</td>\n",
       "    </tr>\n",
       "    <tr>\n",
       "      <th>1194</th>\n",
       "      <td>Vermont</td>\n",
       "      <td>2014</td>\n",
       "    </tr>\n",
       "  </tbody>\n",
       "</table>\n",
       "</div>"
      ],
      "text/plain": [
       "        state  year\n",
       "994   Vermont  2010\n",
       "1044  Vermont  2011\n",
       "1094  Vermont  2012\n",
       "1144  Vermont  2013\n",
       "1194  Vermont  2014"
      ]
     },
     "execution_count": 104,
     "metadata": {},
     "output_type": "execute_result"
    }
   ],
   "source": [
    "df_min_law_state = df[df['lawtotal'] == 3] # find the state with the least applied provisions\n",
    "print(df_min_law_state.state.unique())\n",
    "df_min_law_state[['state','year']].tail()"
   ]
  },
  {
   "cell_type": "code",
   "execution_count": 80,
   "metadata": {
    "scrolled": false
   },
   "outputs": [
    {
     "data": {
      "image/png": "[encoded data removed]",
      "text/plain": [
       "<Figure size 432x288 with 1 Axes>"
      ]
     },
     "metadata": {
      "needs_background": "light"
     },
     "output_type": "display_data"
    }
   ],
   "source": [
    "df_m_vermont = df_m[df_m['State'] == 'Vermont'] # take an annual firearm murder count profile of the Vermont data\n",
    "df_m_vermont_firearm = df_m_vermont[df_m_vermont['Type'] == 'Firearms']\n",
    "df_m_vermont_firearm\n",
    "\n",
    "df_m_vermont_firearm.plot.bar(x='Year',y='By Weapon')\n",
    "plt.title('Vermont Annual Firearm Murders') \n",
    "plt.ylabel('Total Count')\n",
    "plt.tight_layout()\n",
    "plt.show()"
   ]
  },
  {
   "cell_type": "markdown",
   "metadata": {},
   "source": [
    "- The Vermont annual firearm murder data seems much morr chaotic than the California data, however we may expect this result given the scale, since Vermont's murder totals are comparably miniscule to the California data."
   ]
  },
  {
   "cell_type": "code",
   "execution_count": 106,
   "metadata": {},
   "outputs": [
    {
     "data": {
      "text/plain": [
       "1294    0\n",
       "Name: mentalhealth, dtype: int64"
      ]
     },
     "execution_count": 106,
     "metadata": {},
     "output_type": "execute_result"
    }
   ],
   "source": [
    "df_VT = df[df['state'] == 'Vermont'] # check the Vermont data set for the 'mental health' provision\n",
    "df_VT = df_VT[df_VT['year'] == 2016]\n",
    "df_VT['mentalhealth']"
   ]
  },
  {
   "cell_type": "markdown",
   "metadata": {},
   "source": [
    "- We may also expect that Vermont's short list does not contain the Mental Health provision.\n",
    "Comparing these two states outlines how truly important the dynamics of respective demographics are to the overall application and effectiveness of what provisions a state chooses the enact. The thesis of this experiment is to potentially capture one such relationship between the specified firearms law and state-provisional profile. "
   ]
  },
  {
   "cell_type": "markdown",
   "metadata": {},
   "source": [
    "## Main Analysis / Objective"
   ]
  },
  {
   "cell_type": "markdown",
   "metadata": {},
   "source": [
    "- To demonstrate the experiment, data from the most latest year of murder records is chosen; 2016\n",
    "- Arizona, 2016 data is chosen as the control group, such that this state and 2016 does not apply the Mental Health provision.\n",
    "- The investigation for a similar state profile continues below."
   ]
  },
  {
   "cell_type": "code",
   "execution_count": null,
   "metadata": {},
   "outputs": [],
   "source": [
    "def todf(data,time,loc): # method to create a data frame of a given year and state\n",
    "    df_state = data[data['state'] == loc] \n",
    "    df_state = df_state[df_state['year'] == time]\n",
    "    return(df_state)"
   ]
  },
  {
   "cell_type": "code",
   "execution_count": 136,
   "metadata": {
    "scrolled": false
   },
   "outputs": [
    {
     "data": {
      "text/html": [
       "<div>\n",
       "<style scoped>\n",
       "    .dataframe tbody tr th:only-of-type {\n",
       "        vertical-align: middle;\n",
       "    }\n",
       "\n",
       "    .dataframe tbody tr th {\n",
       "        vertical-align: top;\n",
       "    }\n",
       "\n",
       "    .dataframe thead th {\n",
       "        text-align: right;\n",
       "    }\n",
       "</style>\n",
       "<table border=\"1\" class=\"dataframe\">\n",
       "  <thead>\n",
       "    <tr style=\"text-align: right;\">\n",
       "      <th></th>\n",
       "      <th>AZ</th>\n",
       "    </tr>\n",
       "  </thead>\n",
       "  <tbody>\n",
       "    <tr>\n",
       "      <th>0</th>\n",
       "      <td>state</td>\n",
       "    </tr>\n",
       "    <tr>\n",
       "      <th>1</th>\n",
       "      <td>year</td>\n",
       "    </tr>\n",
       "    <tr>\n",
       "      <th>2</th>\n",
       "      <td>age18longgunpossess</td>\n",
       "    </tr>\n",
       "    <tr>\n",
       "      <th>3</th>\n",
       "      <td>ccbackground</td>\n",
       "    </tr>\n",
       "    <tr>\n",
       "      <th>4</th>\n",
       "      <td>ccrenewbackground</td>\n",
       "    </tr>\n",
       "    <tr>\n",
       "      <th>5</th>\n",
       "      <td>ccrevoke</td>\n",
       "    </tr>\n",
       "    <tr>\n",
       "      <th>6</th>\n",
       "      <td>danger</td>\n",
       "    </tr>\n",
       "    <tr>\n",
       "      <th>7</th>\n",
       "      <td>felony</td>\n",
       "    </tr>\n",
       "    <tr>\n",
       "      <th>8</th>\n",
       "      <td>invcommitment</td>\n",
       "    </tr>\n",
       "    <tr>\n",
       "      <th>9</th>\n",
       "      <td>invoutpatient</td>\n",
       "    </tr>\n",
       "    <tr>\n",
       "      <th>10</th>\n",
       "      <td>mcdv</td>\n",
       "    </tr>\n",
       "    <tr>\n",
       "      <th>11</th>\n",
       "      <td>mcdvdating</td>\n",
       "    </tr>\n",
       "    <tr>\n",
       "      <th>12</th>\n",
       "      <td>stalking</td>\n",
       "    </tr>\n",
       "    <tr>\n",
       "      <th>13</th>\n",
       "      <td>lawtotal</td>\n",
       "    </tr>\n",
       "  </tbody>\n",
       "</table>\n",
       "</div>"
      ],
      "text/plain": [
       "                     AZ\n",
       "0                 state\n",
       "1                  year\n",
       "2   age18longgunpossess\n",
       "3          ccbackground\n",
       "4     ccrenewbackground\n",
       "5              ccrevoke\n",
       "6                danger\n",
       "7                felony\n",
       "8         invcommitment\n",
       "9         invoutpatient\n",
       "10                 mcdv\n",
       "11           mcdvdating\n",
       "12             stalking\n",
       "13             lawtotal"
      ]
     },
     "execution_count": 136,
     "metadata": {},
     "output_type": "execute_result"
    }
   ],
   "source": [
    "df_AZ = todf(df,2016,'Arizona') # create 2016,AZ data frame, find all applied (nonzero) provisions in that year\n",
    "nonzero_AZ = df_AZ[df_AZ!=0]\n",
    "nonzero_AZ_drop = nonzero_AZ[nonzero_AZ.columns[~nonzero_AZ.isnull().all()]]\n",
    "nonzero_AZ_drop.T\n",
    "df_AZ_cols = pd.DataFrame(nonzero_AZ_drop.columns.tolist())\n",
    "df_AZ_cols.rename(columns={0: 'AZ'})"
   ]
  },
  {
   "cell_type": "code",
   "execution_count": 114,
   "metadata": {},
   "outputs": [
    {
     "data": {
      "text/plain": [
       "1252    11\n",
       "Name: lawtotal, dtype: int64"
      ]
     },
     "execution_count": 114,
     "metadata": {},
     "output_type": "execute_result"
    }
   ],
   "source": [
    "df_AZ['lawtotal'] # take a count of how many provisions were applied in AZ, 2016"
   ]
  },
  {
   "cell_type": "code",
   "execution_count": 115,
   "metadata": {
    "scrolled": true
   },
   "outputs": [
    {
     "data": {
      "text/plain": [
       "1252    0\n",
       "Name: mentalhealth, dtype: int64"
      ]
     },
     "execution_count": 115,
     "metadata": {},
     "output_type": "execute_result"
    }
   ],
   "source": [
    "df_AZ['mentalhealth'] # check that the 'mental health' provision was not applied in 2016(state is valid for experiment)"
   ]
  },
  {
   "cell_type": "markdown",
   "metadata": {},
   "source": [
    "- We see that Arizona had 11 applied firearms provisions in 2016 and did not include the Mental Health law that year."
   ]
  },
  {
   "cell_type": "code",
   "execution_count": 121,
   "metadata": {
    "scrolled": true
   },
   "outputs": [
    {
     "data": {
      "image/png": "[encoded data removed]",
      "text/plain": [
       "<Figure size 432x288 with 1 Axes>"
      ]
     },
     "metadata": {
      "needs_background": "light"
     },
     "output_type": "display_data"
    }
   ],
   "source": [
    "df_az = df[df['state'] == 'Arizona'] # take a profile of AZ historically applied provision total\n",
    "df_provisions_total = df_az[['year','lawtotal']]\n",
    "df_provisions_total.plot.bar(x='year', y='lawtotal')\n",
    "plt.title('Arizona Annual Applied Provision Count')\n",
    "plt.ylabel('Provision Total')\n",
    "plt.tight_layout()\n",
    "plt.show()"
   ]
  },
  {
   "cell_type": "markdown",
   "metadata": {},
   "source": [
    "- The bar chart depicts the totals of applied provisions dating back to 1991, we see that Arizona ranges from 11 to 13 provisiion historically. We will choose a state in our specified year of 2016 that carries a similar provision profile. "
   ]
  },
  {
   "cell_type": "code",
   "execution_count": 122,
   "metadata": {
    "scrolled": true
   },
   "outputs": [
    {
     "data": {
      "text/html": [
       "<div>\n",
       "<style scoped>\n",
       "    .dataframe tbody tr th:only-of-type {\n",
       "        vertical-align: middle;\n",
       "    }\n",
       "\n",
       "    .dataframe tbody tr th {\n",
       "        vertical-align: top;\n",
       "    }\n",
       "\n",
       "    .dataframe thead th {\n",
       "        text-align: right;\n",
       "    }\n",
       "</style>\n",
       "<table border=\"1\" class=\"dataframe\">\n",
       "  <thead>\n",
       "    <tr style=\"text-align: right;\">\n",
       "      <th></th>\n",
       "      <th>year</th>\n",
       "      <th>state</th>\n",
       "      <th>lawtotal</th>\n",
       "    </tr>\n",
       "  </thead>\n",
       "  <tbody>\n",
       "    <tr>\n",
       "      <th>1252</th>\n",
       "      <td>2016</td>\n",
       "      <td>Arizona</td>\n",
       "      <td>11</td>\n",
       "    </tr>\n",
       "    <tr>\n",
       "      <th>1253</th>\n",
       "      <td>2016</td>\n",
       "      <td>Arkansas</td>\n",
       "      <td>11</td>\n",
       "    </tr>\n",
       "    <tr>\n",
       "      <th>1263</th>\n",
       "      <td>2016</td>\n",
       "      <td>Indiana</td>\n",
       "      <td>12</td>\n",
       "    </tr>\n",
       "    <tr>\n",
       "      <th>1267</th>\n",
       "      <td>2016</td>\n",
       "      <td>Louisiana</td>\n",
       "      <td>12</td>\n",
       "    </tr>\n",
       "    <tr>\n",
       "      <th>1268</th>\n",
       "      <td>2016</td>\n",
       "      <td>Maine</td>\n",
       "      <td>12</td>\n",
       "    </tr>\n",
       "    <tr>\n",
       "      <th>1289</th>\n",
       "      <td>2016</td>\n",
       "      <td>South Carolina</td>\n",
       "      <td>12</td>\n",
       "    </tr>\n",
       "    <tr>\n",
       "      <th>1293</th>\n",
       "      <td>2016</td>\n",
       "      <td>Utah</td>\n",
       "      <td>11</td>\n",
       "    </tr>\n",
       "    <tr>\n",
       "      <th>1295</th>\n",
       "      <td>2016</td>\n",
       "      <td>Virginia</td>\n",
       "      <td>13</td>\n",
       "    </tr>\n",
       "  </tbody>\n",
       "</table>\n",
       "</div>"
      ],
      "text/plain": [
       "      year           state  lawtotal\n",
       "1252  2016         Arizona        11\n",
       "1253  2016        Arkansas        11\n",
       "1263  2016         Indiana        12\n",
       "1267  2016       Louisiana        12\n",
       "1268  2016           Maine        12\n",
       "1289  2016  South Carolina        12\n",
       "1293  2016            Utah        11\n",
       "1295  2016        Virginia        13"
      ]
     },
     "execution_count": 122,
     "metadata": {},
     "output_type": "execute_result"
    }
   ],
   "source": [
    "df_lawtotal = df[['year','state','lawtotal']] # find states that are close to AZ's historical provision totals\n",
    "df_lawtotal = df_lawtotal[df_lawtotal['year'] == 2016]\n",
    "df_lawtotal.query('11 <= lawtotal <= 13')"
   ]
  },
  {
   "cell_type": "code",
   "execution_count": 94,
   "metadata": {},
   "outputs": [],
   "source": [
    "def compare(df1,df2): # method to compare two states by the difference in their applied provision \n",
    "                      # returns a ratio of the sum of the unique provisions to the shared total. \n",
    "    nonzero_1 = df1[df1!=0]\n",
    "    nonzero_1_drop = nonzero_1[nonzero_1.columns[~nonzero_1.isnull().all()]]\n",
    "    nonzero_1_drop.T\n",
    "    df_1_cols = pd.DataFrame(nonzero_1_drop.columns.tolist())\n",
    "\n",
    "    \n",
    "    nonzero_2 = df2[df2!=0]\n",
    "    nonzero_2_drop = nonzero_2[nonzero_2.columns[~nonzero_2.isnull().all()]]\n",
    "    nonzero_2_drop.T\n",
    "    df_2_cols = pd.DataFrame(nonzero_2_drop.columns.tolist())\n",
    "    \n",
    "\n",
    "    df_compare = pd.concat([df_1_cols, df_2_cols]) # concat dataframes\n",
    "    df_compare = df_compare.reset_index(drop=True) # reset the index\n",
    "\n",
    "    df_gpby = df_compare.groupby(list(df_compare.columns)) #group by#\n",
    "    idx = [x[0] for x in df_gpby.groups.values() if len(x) == 1] #reindex\n",
    "    return(\"compared = {}\".format(len(idx)/(len(df_1_cols)+len(df_2_cols))))"
   ]
  },
  {
   "cell_type": "markdown",
   "metadata": {},
   "source": [
    "- The function 'compare' creates two separate state dataframes that list the applied provisions in the year 2016 respectively and returns a ratio of the total different provisions between the two states by the sum total applied provisions in each state. The closer to zero the measurement is, the more similar the state profiles are."
   ]
  },
  {
   "cell_type": "code",
   "execution_count": 129,
   "metadata": {},
   "outputs": [
    {
     "data": {
      "text/plain": [
       "'compared = 0.0'"
      ]
     },
     "execution_count": 129,
     "metadata": {},
     "output_type": "execute_result"
    }
   ],
   "source": [
    "compare(todf(df,2016,'Arizona'),todf(df,2016,'Arizona')) # chack that 'compare' method result is true"
   ]
  },
  {
   "cell_type": "code",
   "execution_count": 128,
   "metadata": {
    "scrolled": true
   },
   "outputs": [
    {
     "data": {
      "text/plain": [
       "'compared = 0.35714285714285715'"
      ]
     },
     "execution_count": 128,
     "metadata": {},
     "output_type": "execute_result"
    }
   ],
   "source": [
    "compare(todf(df,2016,'Arizona'),todf(df,2016,'Arkansas'))"
   ]
  },
  {
   "cell_type": "code",
   "execution_count": 123,
   "metadata": {},
   "outputs": [
    {
     "data": {
      "text/plain": [
       "'compared = 0.3793103448275862'"
      ]
     },
     "execution_count": 123,
     "metadata": {},
     "output_type": "execute_result"
    }
   ],
   "source": [
    "compare(todf(df,2016,'Arizona'),todf(df,2016,'Indiana'))"
   ]
  },
  {
   "cell_type": "code",
   "execution_count": 124,
   "metadata": {},
   "outputs": [
    {
     "data": {
      "text/plain": [
       "'compared = 0.5172413793103449'"
      ]
     },
     "execution_count": 124,
     "metadata": {},
     "output_type": "execute_result"
    }
   ],
   "source": [
    "compare(todf(df,2016,'Arizona'),todf(df,2016,'Louisiana'))"
   ]
  },
  {
   "cell_type": "code",
   "execution_count": 125,
   "metadata": {},
   "outputs": [
    {
     "data": {
      "text/plain": [
       "'compared = 1.0'"
      ]
     },
     "execution_count": 125,
     "metadata": {},
     "output_type": "execute_result"
    }
   ],
   "source": [
    "compare(todf(df,2016,'Arizona'),todf(df,2016,'Maine\t'))"
   ]
  },
  {
   "cell_type": "code",
   "execution_count": 126,
   "metadata": {},
   "outputs": [
    {
     "data": {
      "text/plain": [
       "'compared = 0.4482758620689655'"
      ]
     },
     "execution_count": 126,
     "metadata": {},
     "output_type": "execute_result"
    }
   ],
   "source": [
    "compare(todf(df,2016,'Arizona'),todf(df,2016,'South Carolina'))"
   ]
  },
  {
   "cell_type": "code",
   "execution_count": 127,
   "metadata": {},
   "outputs": [
    {
     "data": {
      "text/plain": [
       "'compared = 0.42857142857142855'"
      ]
     },
     "execution_count": 127,
     "metadata": {},
     "output_type": "execute_result"
    }
   ],
   "source": [
    "compare(todf(df,2016,'Arizona'),todf(df,2016,'Utah'))"
   ]
  },
  {
   "cell_type": "code",
   "execution_count": 17,
   "metadata": {
    "scrolled": true
   },
   "outputs": [
    {
     "data": {
      "text/plain": [
       "'compared = 0.3333333333333333'"
      ]
     },
     "execution_count": 17,
     "metadata": {},
     "output_type": "execute_result"
    }
   ],
   "source": [
    "compare(todf(df,2016,'Arizona'),todf(df,2016,'Virginia')) # find that Virginia has most provisional overlap to AZ"
   ]
  },
  {
   "cell_type": "code",
   "execution_count": 90,
   "metadata": {},
   "outputs": [
    {
     "data": {
      "text/plain": [
       "1295    0\n",
       "Name: mentalhealth, dtype: int64"
      ]
     },
     "execution_count": 90,
     "metadata": {},
     "output_type": "execute_result"
    }
   ],
   "source": [
    "df_VA = todf(df,2016,'Virginia') # check that Virginia has no applied 'mental health' provision during 2016\n",
    "df_VA['mentalhealth']"
   ]
  },
  {
   "cell_type": "markdown",
   "metadata": {},
   "source": [
    "- We see that in 2016, the most similar state to Arizona's profile is Virginia. \n",
    "Virginia is also found to not apply the Mental Health provision in 2016.\n",
    "\n",
    "- This demonstration finds the state of Virginia, 2016 data sufficiently similar to Arziona, 2016 data and select Virginia as the test group."
   ]
  },
  {
   "cell_type": "markdown",
   "metadata": {},
   "source": [
    "### Applied Provision Data \n",
    "- The following sections of the experimnet demonstration depict what methods would best compare the applied provisions with respect to state. These methods would be used to calculate the statistical difference in murder data given the introduction of the Mental Health firearm regulation. "
   ]
  },
  {
   "cell_type": "code",
   "execution_count": 135,
   "metadata": {
    "scrolled": false
   },
   "outputs": [
    {
     "data": {
      "text/html": [
       "<div>\n",
       "<style scoped>\n",
       "    .dataframe tbody tr th:only-of-type {\n",
       "        vertical-align: middle;\n",
       "    }\n",
       "\n",
       "    .dataframe tbody tr th {\n",
       "        vertical-align: top;\n",
       "    }\n",
       "\n",
       "    .dataframe thead th {\n",
       "        text-align: right;\n",
       "    }\n",
       "</style>\n",
       "<table border=\"1\" class=\"dataframe\">\n",
       "  <thead>\n",
       "    <tr style=\"text-align: right;\">\n",
       "      <th></th>\n",
       "      <th>AZ</th>\n",
       "      <th>VA</th>\n",
       "    </tr>\n",
       "  </thead>\n",
       "  <tbody>\n",
       "    <tr>\n",
       "      <th>2</th>\n",
       "      <td>age18longgunpossess</td>\n",
       "      <td>ccbackground</td>\n",
       "    </tr>\n",
       "    <tr>\n",
       "      <th>3</th>\n",
       "      <td>ccbackground</td>\n",
       "      <td>ccrenewbackground</td>\n",
       "    </tr>\n",
       "    <tr>\n",
       "      <th>4</th>\n",
       "      <td>ccrenewbackground</td>\n",
       "      <td>ccrevoke</td>\n",
       "    </tr>\n",
       "    <tr>\n",
       "      <th>5</th>\n",
       "      <td>ccrevoke</td>\n",
       "      <td>danger</td>\n",
       "    </tr>\n",
       "    <tr>\n",
       "      <th>6</th>\n",
       "      <td>danger</td>\n",
       "      <td>dvro</td>\n",
       "    </tr>\n",
       "    <tr>\n",
       "      <th>7</th>\n",
       "      <td>felony</td>\n",
       "      <td>elementary</td>\n",
       "    </tr>\n",
       "    <tr>\n",
       "      <th>8</th>\n",
       "      <td>invcommitment</td>\n",
       "      <td>felony</td>\n",
       "    </tr>\n",
       "    <tr>\n",
       "      <th>9</th>\n",
       "      <td>invoutpatient</td>\n",
       "      <td>invcommitment</td>\n",
       "    </tr>\n",
       "    <tr>\n",
       "      <th>10</th>\n",
       "      <td>mcdv</td>\n",
       "      <td>invoutpatient</td>\n",
       "    </tr>\n",
       "    <tr>\n",
       "      <th>11</th>\n",
       "      <td>mcdvdating</td>\n",
       "      <td>nosyg</td>\n",
       "    </tr>\n",
       "    <tr>\n",
       "      <th>12</th>\n",
       "      <td>stalking</td>\n",
       "      <td>permitconcealed</td>\n",
       "    </tr>\n",
       "    <tr>\n",
       "      <th>13</th>\n",
       "      <td>lawtotal</td>\n",
       "      <td>traffickingprohibited</td>\n",
       "    </tr>\n",
       "  </tbody>\n",
       "</table>\n",
       "</div>"
      ],
      "text/plain": [
       "                     AZ                     VA\n",
       "2   age18longgunpossess           ccbackground\n",
       "3          ccbackground      ccrenewbackground\n",
       "4     ccrenewbackground               ccrevoke\n",
       "5              ccrevoke                 danger\n",
       "6                danger                   dvro\n",
       "7                felony             elementary\n",
       "8         invcommitment                 felony\n",
       "9         invoutpatient          invcommitment\n",
       "10                 mcdv          invoutpatient\n",
       "11           mcdvdating                  nosyg\n",
       "12             stalking        permitconcealed\n",
       "13             lawtotal  traffickingprohibited"
      ]
     },
     "execution_count": 135,
     "metadata": {},
     "output_type": "execute_result"
    }
   ],
   "source": [
    "def show_nonzero(df): # list all applied provisions between AZ and VA\n",
    "    nonzero_1 = df[df!=0]\n",
    "    nonzero_1_drop = nonzero_1[nonzero_1.columns[~nonzero_1.isnull().all()]]\n",
    "    nonzero_1_drop.T\n",
    "    df_1_cols = pd.DataFrame(nonzero_1_drop.columns.tolist())\n",
    "    #df_1_cols = df_1_cols.rename(columns={0: 'AZ'})\n",
    "    return(df_1_cols.iloc[2:14])\n",
    "\n",
    "AZ_nonzero = show_nonzero(todf(df,2016,'Arizona')).rename(columns={0: 'AZ'})\n",
    "VA_nonzero = show_nonzero(todf(df,2016,'Virginia')).rename(columns={0: 'VA'})\n",
    "AZ_nonzero.join(VA_nonzero)"
   ]
  },
  {
   "cell_type": "markdown",
   "metadata": {},
   "source": [
    "- We see the significant over lap in state provsion profiles, the descriptions of this provision list is detailed below."
   ]
  },
  {
   "cell_type": "markdown",
   "metadata": {},
   "source": [
    "### State Provision Descriptions\n",
    "#### age21handgunpossess: \n",
    "No possession of handguns until age 21\n",
    "#### ccbackground: \n",
    "Concealed carry permit process requires a background check\n",
    "#### ccrenewbackground: \n",
    "Concealed carry permit renewal requires a new background check\n",
    "#### ccrevoke: \n",
    "Authorities are required to revoke concealed carry permits under certain circumstances\n",
    "#### danger: \n",
    "Firearm possession is prohibited if person is deemed by court to be a danger to oneself or others\n",
    "#### dvro: \n",
    "State law automatically prohibits domestic violence-related restraining order (DVRO) subjects from possessing firearms\n",
    "#### elementary: \n",
    "No gun carrying on elementary school property, including concealed weapons permittees\n",
    "#### felony: \n",
    "Firearm possession is prohibited for people with a felony conviction\n",
    "#### invcommitment: \n",
    "Firearm possession is prohibited for people who have been involuntarily committed to an inpatient facility\n",
    "#### invoutpatient: \n",
    "Firearm possession is prohibited for people who have been involuntarily committed to an outpatient facility\n",
    "#### mcdv: \n",
    "People convicted of a misdemeanor crime of domestic violence against a spouse, ex-spouse, or cohabitating partner are prohibited from possessing firearms\n",
    "#### nosyg: \n",
    "Use of deadly force is not allowed to be a first resort in public. This is sometimes referred to as a \"stand your ground\" law. There is a duty to retreat. Does not count as shoot first law if it only applies when person is in a vehicle. (A state with a stand your ground law is coded as a 0. All other states are coded as a 1)\n",
    "#### permitconcealed: \n",
    "Permit required to carry concealed weapons\n",
    "#### stalking: \n",
    "A stalking conviction is prohibitive for firearm possession\n",
    "#### traffickingprohibited: \n",
    "No person may purchase a firearm with the intent to re-sell to a person who is prohibited from buying or possessing a firearm\n"
   ]
  },
  {
   "cell_type": "markdown",
   "metadata": {},
   "source": [
    "### State Murder Data"
   ]
  },
  {
   "cell_type": "code",
   "execution_count": 91,
   "metadata": {},
   "outputs": [
    {
     "data": {
      "text/html": [
       "<div>\n",
       "<style scoped>\n",
       "    .dataframe tbody tr th:only-of-type {\n",
       "        vertical-align: middle;\n",
       "    }\n",
       "\n",
       "    .dataframe tbody tr th {\n",
       "        vertical-align: top;\n",
       "    }\n",
       "\n",
       "    .dataframe thead th {\n",
       "        text-align: right;\n",
       "    }\n",
       "</style>\n",
       "<table border=\"1\" class=\"dataframe\">\n",
       "  <thead>\n",
       "    <tr style=\"text-align: right;\">\n",
       "      <th></th>\n",
       "      <th>Year</th>\n",
       "      <th>State</th>\n",
       "      <th>Total</th>\n",
       "      <th>Type</th>\n",
       "      <th>By Weapon</th>\n",
       "    </tr>\n",
       "  </thead>\n",
       "  <tbody>\n",
       "    <tr>\n",
       "      <th>2452</th>\n",
       "      <td>2016</td>\n",
       "      <td>Arizona</td>\n",
       "      <td>336</td>\n",
       "      <td>Firearms</td>\n",
       "      <td>227</td>\n",
       "    </tr>\n",
       "    <tr>\n",
       "      <th>2628</th>\n",
       "      <td>2016</td>\n",
       "      <td>Virginia</td>\n",
       "      <td>482</td>\n",
       "      <td>Firearms</td>\n",
       "      <td>352</td>\n",
       "    </tr>\n",
       "  </tbody>\n",
       "</table>\n",
       "</div>"
      ],
      "text/plain": [
       "      Year     State  Total      Type  By Weapon\n",
       "2452  2016   Arizona    336  Firearms        227\n",
       "2628  2016  Virginia    482  Firearms        352"
      ]
     },
     "execution_count": 91,
     "metadata": {},
     "output_type": "execute_result"
    }
   ],
   "source": [
    "def df_murder_count(data,time,loc,weapon): # from the murder count data set, extract 2016 firearm counts for each state \n",
    "    df_state = data[data['State'] == loc] \n",
    "    df_state = df_state[df_state['Year'] == time]\n",
    "    df_state = df_state[df_state['Type'] == weapon]\n",
    "    return(df_state)\n",
    "\n",
    "df_murder_count(df_m,2016,'Arizona','Firearms')\n",
    "\n",
    "df_state_fm = pd.concat([df_murder_count(df_m,2016,'Arizona','Firearms'), df_murder_count(df_m,2016,'Virginia','Firearms')])\n",
    "df_state_fm"
   ]
  },
  {
   "cell_type": "markdown",
   "metadata": {},
   "source": [
    "- Grouping the murder data between the two states, we see that Arizona had 336  recorded murders in 2016, 227 of which were linked to firearms. In the same year, Virginia had 482 recorded murders, 352 of which were linked to some type of firearm. "
   ]
  },
  {
   "cell_type": "code",
   "execution_count": 83,
   "metadata": {
    "scrolled": false
   },
   "outputs": [
    {
     "name": "stderr",
     "output_type": "stream",
     "text": [
      "/Users/coreycoole/anaconda3/lib/python3.7/site-packages/ipykernel_launcher.py:3: SettingWithCopyWarning: \n",
      "A value is trying to be set on a copy of a slice from a DataFrame.\n",
      "Try using .loc[row_indexer,col_indexer] = value instead\n",
      "\n",
      "See the caveats in the documentation: http://pandas.pydata.org/pandas-docs/stable/indexing.html#indexing-view-versus-copy\n",
      "  This is separate from the ipykernel package so we can avoid doing imports until\n"
     ]
    },
    {
     "data": {
      "image/png": "[encoded data removed]",
      "text/plain": [
       "<Figure size 432x288 with 1 Axes>"
      ]
     },
     "metadata": {
      "needs_background": "light"
     },
     "output_type": "display_data"
    }
   ],
   "source": [
    "df_m_AZ = df_m[df_m['State'] == 'Arizona'] # take a historical profile of the AZ firearm count data as a \n",
    "                                           # annual percent change value from the previous year\n",
    "df_m_AZ_firearms = df_m_AZ[df_m_AZ['Type'] == 'Firearms']\n",
    "df_m_AZ_firearms['PCT_Change'] = df_m_AZ_firearms['By Weapon'].pct_change(periods=1)\n",
    "\n",
    "df_m_AZ_firearms_no2004 = df_m_AZ_firearms.iloc[1:13, :]\n",
    "\n",
    "df_m_AZ_firearms_no2004.plot.bar(x='Year', y='PCT_Change')\n",
    "plt.title('Arizona Annual Firearm Murder Percent Change') \n",
    "plt.ylabel('Percentage')\n",
    "plt.tight_layout()\n",
    "plt.show()"
   ]
  },
  {
   "cell_type": "code",
   "execution_count": 84,
   "metadata": {
    "scrolled": false
   },
   "outputs": [
    {
     "name": "stderr",
     "output_type": "stream",
     "text": [
      "/Users/coreycoole/anaconda3/lib/python3.7/site-packages/ipykernel_launcher.py:3: SettingWithCopyWarning: \n",
      "A value is trying to be set on a copy of a slice from a DataFrame.\n",
      "Try using .loc[row_indexer,col_indexer] = value instead\n",
      "\n",
      "See the caveats in the documentation: http://pandas.pydata.org/pandas-docs/stable/indexing.html#indexing-view-versus-copy\n",
      "  This is separate from the ipykernel package so we can avoid doing imports until\n"
     ]
    },
    {
     "data": {
      "image/png": "[encoded data removed]",
      "text/plain": [
       "<Figure size 432x288 with 1 Axes>"
      ]
     },
     "metadata": {
      "needs_background": "light"
     },
     "output_type": "display_data"
    }
   ],
   "source": [
    "df_m_VA = df_m[df_m['State'] == 'Virginia'] # take a historical profile of the AZ firearm count data\n",
    "                                            # as a annual percent change value fromthe previous year\n",
    "df_m_VA_firearms = df_m_VA[df_m_VA['Type'] == 'Firearms']          \n",
    "df_m_VA_firearms['PCT_Change'] = df_m_VA_firearms['By Weapon'].pct_change(periods=1)\n",
    "\n",
    "df_m_VA_firearms_no2004 = df_m_VA_firearms.iloc[1:13, :]\n",
    "\n",
    "df_m_VA_firearms_no2004.plot.bar(x='Year', y='PCT_Change')\n",
    "plt.title('Virginia Annual Firearm Murder Percent Change')\n",
    "plt.ylabel('Percentage')\n",
    "plt.tight_layout()\n",
    "plt.show()"
   ]
  },
  {
   "cell_type": "markdown",
   "metadata": {},
   "source": [
    "- Analyzing the historical firearm murder data, the percentage changes in the Arizona data make disticnt trends, however Virginia's percentage chart seems much more irregular. Each state's rates of change will be useful in determining the effectiveness of applying the Mental Health provision."
   ]
  },
  {
   "cell_type": "markdown",
   "metadata": {},
   "source": [
    "### Arizona Population Data\n",
    "- There is a wide array of factors that contribute to annual murder counts, let alone data specific to firearms. However, if we are to compare two groups, we would like to eliminate the variability of group size respectively, such that we adjust each state's total murder and firearm murder counts by the population growth that year."
   ]
  },
  {
   "cell_type": "code",
   "execution_count": 28,
   "metadata": {},
   "outputs": [
    {
     "data": {
      "text/html": [
       "<div>\n",
       "<style scoped>\n",
       "    .dataframe tbody tr th:only-of-type {\n",
       "        vertical-align: middle;\n",
       "    }\n",
       "\n",
       "    .dataframe tbody tr th {\n",
       "        vertical-align: top;\n",
       "    }\n",
       "\n",
       "    .dataframe thead th {\n",
       "        text-align: right;\n",
       "    }\n",
       "</style>\n",
       "<table border=\"1\" class=\"dataframe\">\n",
       "  <thead>\n",
       "    <tr style=\"text-align: right;\">\n",
       "      <th></th>\n",
       "      <th>Population</th>\n",
       "    </tr>\n",
       "  </thead>\n",
       "  <tbody>\n",
       "    <tr>\n",
       "      <th>CENSUS2010POP</th>\n",
       "      <td>6392017</td>\n",
       "    </tr>\n",
       "    <tr>\n",
       "      <th>POPESTIMATE2011</th>\n",
       "      <td>6473497</td>\n",
       "    </tr>\n",
       "    <tr>\n",
       "      <th>POPESTIMATE2012</th>\n",
       "      <td>6556629</td>\n",
       "    </tr>\n",
       "    <tr>\n",
       "      <th>POPESTIMATE2013</th>\n",
       "      <td>6634999</td>\n",
       "    </tr>\n",
       "    <tr>\n",
       "      <th>POPESTIMATE2014</th>\n",
       "      <td>6733840</td>\n",
       "    </tr>\n",
       "    <tr>\n",
       "      <th>POPESTIMATE2015</th>\n",
       "      <td>6833596</td>\n",
       "    </tr>\n",
       "    <tr>\n",
       "      <th>POPESTIMATE2016</th>\n",
       "      <td>6945452</td>\n",
       "    </tr>\n",
       "    <tr>\n",
       "      <th>POPESTIMATE2017</th>\n",
       "      <td>7048876</td>\n",
       "    </tr>\n",
       "  </tbody>\n",
       "</table>\n",
       "</div>"
      ],
      "text/plain": [
       "                Population\n",
       "CENSUS2010POP      6392017\n",
       "POPESTIMATE2011    6473497\n",
       "POPESTIMATE2012    6556629\n",
       "POPESTIMATE2013    6634999\n",
       "POPESTIMATE2014    6733840\n",
       "POPESTIMATE2015    6833596\n",
       "POPESTIMATE2016    6945452\n",
       "POPESTIMATE2017    7048876"
      ]
     },
     "execution_count": 28,
     "metadata": {},
     "output_type": "execute_result"
    }
   ],
   "source": [
    "df_US_annual_population = df_US[['NAME','CENSUS2010POP','POPESTIMATE2011','POPESTIMATE2012','POPESTIMATE2013',\n",
    "                                 'POPESTIMATE2014','POPESTIMATE2015','POPESTIMATE2016','POPESTIMATE2017',\n",
    "                                 'POPESTIMATE2018']]\n",
    "                                                            # create a data frame of AZ annual population estimates\n",
    "df_AZ_population = df_US_annual_population[df_US_annual_population['NAME'] == 'Arizona']\n",
    "df_AZ_pop = df_AZ_population.T\n",
    "df_AZ_pop.columns = ['Population']\n",
    "df_AZ_pop = df_AZ_pop.iloc[1:9]\n",
    "df_AZ_pop\n"
   ]
  },
  {
   "cell_type": "code",
   "execution_count": 88,
   "metadata": {
    "scrolled": false
   },
   "outputs": [
    {
     "name": "stdout",
     "output_type": "stream",
     "text": [
      "                 Population\n",
      "POPESTIMATE2011    0.012747\n",
      "POPESTIMATE2012    0.012842\n",
      "POPESTIMATE2013    0.011953\n",
      "POPESTIMATE2014    0.014897\n",
      "POPESTIMATE2015    0.014814\n",
      "POPESTIMATE2016    0.016369\n",
      "POPESTIMATE2017    0.014891\n"
     ]
    },
    {
     "data": {
      "image/png": "[encoded data removed]",
      "text/plain": [
       "<Figure size 432x288 with 1 Axes>"
      ]
     },
     "metadata": {
      "needs_background": "light"
     },
     "output_type": "display_data"
    }
   ],
   "source": [
    "df_AZ_pop_pct_changes = df_AZ_pop.pct_change() # take a profile of the AZ population change as a percent change \n",
    "                                               # from the previous year \n",
    "df_AZ_pop_pct_changes_no2010 = df_AZ_pop_pct_changes.iloc[1:9,:]\n",
    "df_AZ_pop_pct_changes_no2010.plot.bar()\n",
    "plt.title('Arizona Annual Population Percent Change') \n",
    "plt.ylabel('Percentage')\n",
    "plt.xlabel('Year')\n",
    "print(df_AZ_pop_pct_changes_no2010)\n"
   ]
  },
  {
   "cell_type": "markdown",
   "metadata": {},
   "source": [
    "### Virginia Population Data"
   ]
  },
  {
   "cell_type": "code",
   "execution_count": 31,
   "metadata": {},
   "outputs": [
    {
     "data": {
      "text/html": [
       "<div>\n",
       "<style scoped>\n",
       "    .dataframe tbody tr th:only-of-type {\n",
       "        vertical-align: middle;\n",
       "    }\n",
       "\n",
       "    .dataframe tbody tr th {\n",
       "        vertical-align: top;\n",
       "    }\n",
       "\n",
       "    .dataframe thead th {\n",
       "        text-align: right;\n",
       "    }\n",
       "</style>\n",
       "<table border=\"1\" class=\"dataframe\">\n",
       "  <thead>\n",
       "    <tr style=\"text-align: right;\">\n",
       "      <th></th>\n",
       "      <th>Population</th>\n",
       "    </tr>\n",
       "  </thead>\n",
       "  <tbody>\n",
       "    <tr>\n",
       "      <th>CENSUS2010POP</th>\n",
       "      <td>8001024</td>\n",
       "    </tr>\n",
       "    <tr>\n",
       "      <th>POPESTIMATE2011</th>\n",
       "      <td>8100469</td>\n",
       "    </tr>\n",
       "    <tr>\n",
       "      <th>POPESTIMATE2012</th>\n",
       "      <td>8185229</td>\n",
       "    </tr>\n",
       "    <tr>\n",
       "      <th>POPESTIMATE2013</th>\n",
       "      <td>8253053</td>\n",
       "    </tr>\n",
       "    <tr>\n",
       "      <th>POPESTIMATE2014</th>\n",
       "      <td>8312076</td>\n",
       "    </tr>\n",
       "    <tr>\n",
       "      <th>POPESTIMATE2015</th>\n",
       "      <td>8362907</td>\n",
       "    </tr>\n",
       "    <tr>\n",
       "      <th>POPESTIMATE2016</th>\n",
       "      <td>8410946</td>\n",
       "    </tr>\n",
       "    <tr>\n",
       "      <th>POPESTIMATE2017</th>\n",
       "      <td>8465207</td>\n",
       "    </tr>\n",
       "  </tbody>\n",
       "</table>\n",
       "</div>"
      ],
      "text/plain": [
       "                Population\n",
       "CENSUS2010POP      8001024\n",
       "POPESTIMATE2011    8100469\n",
       "POPESTIMATE2012    8185229\n",
       "POPESTIMATE2013    8253053\n",
       "POPESTIMATE2014    8312076\n",
       "POPESTIMATE2015    8362907\n",
       "POPESTIMATE2016    8410946\n",
       "POPESTIMATE2017    8465207"
      ]
     },
     "execution_count": 31,
     "metadata": {},
     "output_type": "execute_result"
    }
   ],
   "source": [
    "df_VA_population = df_US_annual_population[df_US_annual_population['NAME'] == 'Virginia']\n",
    "                                                    # create a data frame of AZ annual population estimates\n",
    "df_VA_pop = df_VA_population.T\n",
    "df_VA_pop.columns = ['Population']\n",
    "df_VA_pop = df_VA_pop.iloc[1:9]\n",
    "df_VA_pop"
   ]
  },
  {
   "cell_type": "code",
   "execution_count": 87,
   "metadata": {},
   "outputs": [
    {
     "name": "stdout",
     "output_type": "stream",
     "text": [
      "                 Population\n",
      "POPESTIMATE2011    0.012429\n",
      "POPESTIMATE2012    0.010464\n",
      "POPESTIMATE2013    0.008286\n",
      "POPESTIMATE2014    0.007152\n",
      "POPESTIMATE2015    0.006115\n",
      "POPESTIMATE2016    0.005744\n",
      "POPESTIMATE2017    0.006451\n"
     ]
    },
    {
     "data": {
      "image/png": "[encoded data removed]",
      "text/plain": [
       "<Figure size 432x288 with 1 Axes>"
      ]
     },
     "metadata": {
      "needs_background": "light"
     },
     "output_type": "display_data"
    }
   ],
   "source": [
    "df_VA_pop_pct_changes = df_VA_pop.pct_change() # take a profile of the VA population change as a percent change \n",
    "                                               # from the previous year \n",
    "df_VA_pop_pct_changes_no2010 = df_VA_pop_pct_changes.iloc[1:9,:]\n",
    "df_VA_pop_pct_changes_no2010.plot.bar()\n",
    "plt.title('Virginia Annual Population Percent Change')\n",
    "plt.ylabel('Percentage')\n",
    "plt.xlabel('Year')\n",
    "print(df_VA_pop_pct_changes_no2010)\n"
   ]
  },
  {
   "cell_type": "markdown",
   "metadata": {},
   "source": [
    "### Adjusted Count Data"
   ]
  },
  {
   "cell_type": "code",
   "execution_count": 92,
   "metadata": {
    "scrolled": false
   },
   "outputs": [
    {
     "data": {
      "text/html": [
       "<div>\n",
       "<style scoped>\n",
       "    .dataframe tbody tr th:only-of-type {\n",
       "        vertical-align: middle;\n",
       "    }\n",
       "\n",
       "    .dataframe tbody tr th {\n",
       "        vertical-align: top;\n",
       "    }\n",
       "\n",
       "    .dataframe thead th {\n",
       "        text-align: right;\n",
       "    }\n",
       "</style>\n",
       "<table border=\"1\" class=\"dataframe\">\n",
       "  <thead>\n",
       "    <tr style=\"text-align: right;\">\n",
       "      <th></th>\n",
       "      <th>Year</th>\n",
       "      <th>State</th>\n",
       "      <th>Total</th>\n",
       "      <th>Type</th>\n",
       "      <th>By Weapon</th>\n",
       "      <th>Ajstd Firearm</th>\n",
       "      <th>Ajstd Total</th>\n",
       "    </tr>\n",
       "  </thead>\n",
       "  <tbody>\n",
       "    <tr>\n",
       "      <th>2452</th>\n",
       "      <td>2016</td>\n",
       "      <td>Arizona</td>\n",
       "      <td>336</td>\n",
       "      <td>Firearms</td>\n",
       "      <td>227</td>\n",
       "      <td>223.344081</td>\n",
       "      <td>330.588595</td>\n",
       "    </tr>\n",
       "    <tr>\n",
       "      <th>2628</th>\n",
       "      <td>2016</td>\n",
       "      <td>Virginia</td>\n",
       "      <td>482</td>\n",
       "      <td>Firearms</td>\n",
       "      <td>352</td>\n",
       "      <td>349.989659</td>\n",
       "      <td>479.247204</td>\n",
       "    </tr>\n",
       "  </tbody>\n",
       "</table>\n",
       "</div>"
      ],
      "text/plain": [
       "      Year     State  Total      Type  By Weapon  Ajstd Firearm  Ajstd Total\n",
       "2452  2016   Arizona    336  Firearms        227     223.344081   330.588595\n",
       "2628  2016  Virginia    482  Firearms        352     349.989659   479.247204"
      ]
     },
     "execution_count": 92,
     "metadata": {},
     "output_type": "execute_result"
    }
   ],
   "source": [
    "df_state_fm['Ajstd Firearm'] = [227/1.016369, 352/1.005744] # standardize the firearm and total murder count \n",
    "                                                            # by each state's respective population growth\n",
    "df_state_fm['Ajstd Total'] = [336/1.016369, 482/1.005744]\n",
    "df_state_fm"
   ]
  },
  {
   "cell_type": "markdown",
   "metadata": {},
   "source": [
    "- Although the population adjustment did not change the murder counts very much, this calculation can be generalized such to compare states that might be much different in size. \n",
    "From here, a two proportion Z-test is applied to the ratios of firearm to total murder data."
   ]
  },
  {
   "cell_type": "code",
   "execution_count": 57,
   "metadata": {},
   "outputs": [
    {
     "name": "stdout",
     "output_type": "stream",
     "text": [
      "p-value = 0.09247547501022205 and Z-score = -1.682481677097897\n"
     ]
    }
   ],
   "source": [
    "from statsmodels.stats.proportion import proportions_ztest # test each standardized ratio for a \n",
    "                                                           # statistical significance result\n",
    "\n",
    "count = np.array([223.344081, 349.989659])\n",
    "n_observations = np.array([330.588595, 479.247204])\n",
    "\n",
    "stat, pval = proportions_ztest(count,n_observations )\n",
    "print('p-value = {} and Z-score = {}'.format(pval,stat))"
   ]
  },
  {
   "cell_type": "markdown",
   "metadata": {},
   "source": [
    "#### Our test results indicate at probability value of .0924, greater than our alpha level at .05. Thusly the metrics show our the difference in the murder count data is not statistically significant. "
   ]
  },
  {
   "cell_type": "markdown",
   "metadata": {},
   "source": [
    "### Conclusion"
   ]
  },
  {
   "cell_type": "markdown",
   "metadata": {},
   "source": [
    "In this experimental demonstration, the 2016 Arziona firearm murder annual count data was chosen as the control group and the 2016 Virginia firearm murder annual murder count data was chosen as the test group. To investigate the effectiveness of the Mental Health provision, the state of Virginia would adopt the Mental Health regulation throughout the upcoming year and the annual murder count would then be recorded as usual. After the year, the Virginia firearm murder count would be calculated as a ratio to the total murder count of the state and the Arizona firearm murder count would be also made a ratio to its state total murder count. Each ratio would then be standardized with respect to state population estimates taken from the US Census Bureau. These two standardized ratios would be then be compared with a two proportion z-test. With a confidence level set to .05, a successful experiment would see a resulting p-value less than .05, thus a statistically significant difference in the annual murder counts from each state. \n",
    "\n",
    "Through careful investigation of the Arizona and Viginia provision, murder, and population data, this experiment is suited to address the application of a new firearm provision to the test case. Although the experiment demonstation did not meet the requirement for success, I feel the calculations of this A/B experiment is readily generatlized to examine the introduction of any unapplied firearm provisions. \n",
    "Due to the approach of the A/B experiment, we see how important to select a control and testing group with minimal differences in variable profiles, such that all recorded changes can be best traced to the experimental metric. \n",
    "\n",
    "Further refinement of this experimental method may include non-parametric ratio testing, such that the underlying distributions of murder and population data are better handled. As state-wide population data generalizes a large number of demographics, this experiment would benefit from testing sub-group murder data and within the general population data in order to better determine the effectiveness of an experimental provision. Since this particular A/B is structured such that it determines if the two groups murder counts are statistically different, a natural supplement to this method would be, in light of a successful result, to then test each state's historical murder data and population growth to determine if murder counts increased or decreased annually during the observed time period. "
   ]
  },
  {
   "cell_type": "code",
   "execution_count": null,
   "metadata": {},
   "outputs": [],
   "source": []
  }
 ],
 "metadata": {
  "kernelspec": {
   "display_name": "Python 3",
   "language": "python",
   "name": "python3"
  },
  "language_info": {
   "codemirror_mode": {
    "name": "ipython",
    "version": 3
   },
   "file_extension": ".py",
   "mimetype": "text/x-python",
   "name": "python",
   "nbconvert_exporter": "python",
   "pygments_lexer": "ipython3",
   "version": "3.7.1"
  }
 },
 "nbformat": 4,
 "nbformat_minor": 2
}
